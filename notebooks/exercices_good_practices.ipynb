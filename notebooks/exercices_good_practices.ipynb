{
 "cells": [
  {
   "cell_type": "markdown",
   "id": "0b45c729-fd32-469b-bed8-904f474f4ad7",
   "metadata": {},
   "source": [
    "# Data Analysis and Data Science\n",
    "## Putting it all together \n",
    "\n",
    "By: Caroline Labelle\n",
    "<br>For: BIM6065-C\n",
    "\n",
    "<br>\n",
    "Date: July 8th, 2024\n",
    "\n",
    "<hr style=\"border:1px solid black\"> </hr>"
   ]
  },
  {
   "cell_type": "code",
   "execution_count": 1,
   "id": "9896c6bc-653b-4958-b21a-c97e02f0d3fa",
   "metadata": {},
   "outputs": [],
   "source": [
    "### Student Name: Melisa Farias Gonzalez\n"
   ]
  },
  {
   "cell_type": "markdown",
   "id": "66323439-c98c-4e75-b791-73df2eb3efb1",
   "metadata": {},
   "source": [
    "Complete the following exercises and push your notebook on Github: submit your Github handle on StudiUM.\n",
    "\n",
    "In a terminal : \n",
    "\n",
    "1. Go in the same directory as your notebook: `cd path_to_your_notebook/`\n",
    "2. Commit the change made to your notebook: `git commit -m \"add_your_personalized_note\"`\n",
    "3. Push your commit on Github: `git push origin master`\n",
    "\n",
    "Go to Github and double check that the pushed Notebook is the version you want to hand in."
   ]
  },
  {
   "cell_type": "code",
   "execution_count": 2,
   "id": "a150bdde-ae13-4ea0-b60e-923f8730bc6a",
   "metadata": {},
   "outputs": [],
   "source": [
    "### Import sklearn\n",
    "import sklearn.decomposition, sklearn.cluster\n",
    "\n",
    "### Import scipy\n",
    "import scipy as sp\n",
    "\n",
    "### Import pandas, numpy, seaborn and matplotlib.pyplot\n",
    "import pandas as pd\n",
    "import numpy as np\n",
    "import seaborn as sns"
   ]
  },
  {
   "cell_type": "code",
   "execution_count": 3,
   "id": "63f6b3ea-75e0-433d-ae8a-0b61a8a7f220",
   "metadata": {},
   "outputs": [],
   "source": [
    "sns.set(rc={'figure.figsize':(4, 2)})\n",
    "sns.set_theme(context=\"notebook\", style=\"white\")"
   ]
  },
  {
   "cell_type": "markdown",
   "id": "8a4327d5-e0b6-470f-961f-2ce0215c82b9",
   "metadata": {},
   "source": [
    "# Breast Cancer Subtypes Analysis [50 pts]\n",
    "\n",
    "You are given a gene expression dataset of $N$ breast cancer patients with their clinical subtype. You wish to know if you can assess the clinical subtypes based on the gene expression. To do so you will be using various methods presented through out the class."
   ]
  },
  {
   "cell_type": "markdown",
   "id": "6f953a15-6ddf-4a1d-a97d-39299d94b3a7",
   "metadata": {},
   "source": [
    "## Import the data [10 pts]\n",
    "\n",
    "Your dataset concist of three files: \n",
    "1. `genes_id.txt`\n",
    "2. `patient_subtype.txt`\n",
    "3. `patient_expression.txt`. \n",
    "\n",
    "Import the various files and build your dataset daframe. You should have for each patient her/his gene expression profil and clinical subtypes. Use the gene IDs as identifier for the columns or row names (you choose how to build your dataframe)."
   ]
  },
  {
   "cell_type": "markdown",
   "id": "49fde435-7319-4fde-a39f-f6de1f1bd501",
   "metadata": {},
   "source": [
    "### Import the files individually [3 pts]"
   ]
  },
  {
   "cell_type": "code",
   "execution_count": 107,
   "id": "5b1ea372-068c-453e-a926-d931798e2282",
   "metadata": {},
   "outputs": [
    {
     "data": {
      "text/html": [
       "<div>\n",
       "<style scoped>\n",
       "    .dataframe tbody tr th:only-of-type {\n",
       "        vertical-align: middle;\n",
       "    }\n",
       "\n",
       "    .dataframe tbody tr th {\n",
       "        vertical-align: top;\n",
       "    }\n",
       "\n",
       "    .dataframe thead th {\n",
       "        text-align: right;\n",
       "    }\n",
       "</style>\n",
       "<table border=\"1\" class=\"dataframe\">\n",
       "  <thead>\n",
       "    <tr style=\"text-align: right;\">\n",
       "      <th></th>\n",
       "      <th>0</th>\n",
       "    </tr>\n",
       "  </thead>\n",
       "  <tbody>\n",
       "    <tr>\n",
       "      <th>0</th>\n",
       "      <td>Basal</td>\n",
       "    </tr>\n",
       "    <tr>\n",
       "      <th>1</th>\n",
       "      <td>Basal</td>\n",
       "    </tr>\n",
       "    <tr>\n",
       "      <th>2</th>\n",
       "      <td>Basal</td>\n",
       "    </tr>\n",
       "    <tr>\n",
       "      <th>3</th>\n",
       "      <td>Basal</td>\n",
       "    </tr>\n",
       "    <tr>\n",
       "      <th>4</th>\n",
       "      <td>Basal</td>\n",
       "    </tr>\n",
       "  </tbody>\n",
       "</table>\n",
       "</div>"
      ],
      "text/plain": [
       "       0\n",
       "0  Basal\n",
       "1  Basal\n",
       "2  Basal\n",
       "3  Basal\n",
       "4  Basal"
      ]
     },
     "execution_count": 107,
     "metadata": {},
     "output_type": "execute_result"
    }
   ],
   "source": [
    "genes_id = pd.read_csv(\"/u/fariasgo/code_github/datasets/genes_id.txt\", header = None)\n",
    "#genes_df = pd.DataFrame(genes_id)\n",
    "#genes_df\n",
    "\n",
    "\n",
    "patient_subtypes = pd.read_csv(\"/u/fariasgo/code_github/datasets/patient_subtype.txt\", header = None )\n",
    "#subtype_df = pd.DataFrame(pt_subtype)\n",
    "#subtype_df\n",
    "\n",
    "\n",
    "gene_expression = pd.read_csv(\"/u/fariasgo/code_github/datasets/patient_expression.txt\", header = None , sep = \" \")\n",
    "\n",
    "\n",
    "patient_subtypes.head()\n",
    "    "
   ]
  },
  {
   "cell_type": "markdown",
   "id": "0b599ab0-14a1-4e02-8e4c-f92d19bc89a4",
   "metadata": {},
   "source": [
    "### How many patient are you considering? [1 pt]"
   ]
  },
  {
   "cell_type": "code",
   "execution_count": 108,
   "id": "c06d5645-f306-4555-9345-894cfd47eb6e",
   "metadata": {},
   "outputs": [
    {
     "name": "stdout",
     "output_type": "stream",
     "text": [
      "645 patients\n"
     ]
    }
   ],
   "source": [
    "print(len(gene_expression), \"patients\")"
   ]
  },
  {
   "cell_type": "markdown",
   "id": "f721294e-c453-4d71-9a90-c3f1d4028f2b",
   "metadata": {},
   "source": [
    "### How many genes are you considering? [1 pt]"
   ]
  },
  {
   "cell_type": "code",
   "execution_count": 109,
   "id": "421bad8e-e19a-45bf-9ac8-0369453b8202",
   "metadata": {},
   "outputs": [
    {
     "name": "stdout",
     "output_type": "stream",
     "text": [
      "47 genes\n"
     ]
    }
   ],
   "source": [
    "print(len(genes_id), \"genes\")"
   ]
  },
  {
   "cell_type": "markdown",
   "id": "4ee97720-6360-4601-a231-9a799e210e7d",
   "metadata": {},
   "source": [
    "### Combine the data from all three files into one dataframe [5 pts]\n",
    "You can use one of the dataframe as the 'main' one, and then rename its columns and add a new column.\n",
    "\n",
    "**Show a preview/overview of your dataframe**"
   ]
  },
  {
   "cell_type": "code",
   "execution_count": 110,
   "id": "aafbf631-12a1-43a5-836e-5bc82bd80ed8",
   "metadata": {},
   "outputs": [
    {
     "data": {
      "text/html": [
       "<div>\n",
       "<style scoped>\n",
       "    .dataframe tbody tr th:only-of-type {\n",
       "        vertical-align: middle;\n",
       "    }\n",
       "\n",
       "    .dataframe tbody tr th {\n",
       "        vertical-align: top;\n",
       "    }\n",
       "\n",
       "    .dataframe thead th {\n",
       "        text-align: right;\n",
       "    }\n",
       "</style>\n",
       "<table border=\"1\" class=\"dataframe\">\n",
       "  <thead>\n",
       "    <tr style=\"text-align: right;\">\n",
       "      <th></th>\n",
       "      <th>ENSG00000011426.9</th>\n",
       "      <th>ENSG00000054598.6</th>\n",
       "      <th>ENSG00000062038.12</th>\n",
       "      <th>ENSG00000077152.8</th>\n",
       "      <th>ENSG00000082175.13</th>\n",
       "      <th>ENSG00000089685.13</th>\n",
       "      <th>ENSG00000091831.20</th>\n",
       "      <th>ENSG00000092621.10</th>\n",
       "      <th>ENSG00000094804.8</th>\n",
       "      <th>ENSG00000099953.8</th>\n",
       "      <th>...</th>\n",
       "      <th>ENSG00000171848.12</th>\n",
       "      <th>ENSG00000173890.15</th>\n",
       "      <th>ENSG00000174371.15</th>\n",
       "      <th>ENSG00000175063.15</th>\n",
       "      <th>ENSG00000176890.14</th>\n",
       "      <th>ENSG00000186081.10</th>\n",
       "      <th>ENSG00000186847.5</th>\n",
       "      <th>ENSG00000186868.14</th>\n",
       "      <th>ENSG00000261857.5</th>\n",
       "      <th>Clinical_subtypes</th>\n",
       "    </tr>\n",
       "  </thead>\n",
       "  <tbody>\n",
       "    <tr>\n",
       "      <th>0</th>\n",
       "      <td>1.326515</td>\n",
       "      <td>3.475678</td>\n",
       "      <td>2.374959</td>\n",
       "      <td>3.409941</td>\n",
       "      <td>0.014148</td>\n",
       "      <td>3.235387</td>\n",
       "      <td>0.094595</td>\n",
       "      <td>4.488874</td>\n",
       "      <td>2.023978</td>\n",
       "      <td>3.996567</td>\n",
       "      <td>...</td>\n",
       "      <td>3.163366</td>\n",
       "      <td>1.751804</td>\n",
       "      <td>1.727270</td>\n",
       "      <td>4.541346</td>\n",
       "      <td>3.437507</td>\n",
       "      <td>5.678637</td>\n",
       "      <td>7.451924</td>\n",
       "      <td>0.598057</td>\n",
       "      <td>2.860720</td>\n",
       "      <td>Basal</td>\n",
       "    </tr>\n",
       "    <tr>\n",
       "      <th>1</th>\n",
       "      <td>1.885133</td>\n",
       "      <td>2.752910</td>\n",
       "      <td>3.770004</td>\n",
       "      <td>3.822052</td>\n",
       "      <td>0.051402</td>\n",
       "      <td>3.001023</td>\n",
       "      <td>0.241303</td>\n",
       "      <td>3.680198</td>\n",
       "      <td>1.820556</td>\n",
       "      <td>1.344271</td>\n",
       "      <td>...</td>\n",
       "      <td>2.339897</td>\n",
       "      <td>0.949565</td>\n",
       "      <td>1.967062</td>\n",
       "      <td>4.167635</td>\n",
       "      <td>3.288760</td>\n",
       "      <td>5.370061</td>\n",
       "      <td>2.870596</td>\n",
       "      <td>0.102755</td>\n",
       "      <td>3.075090</td>\n",
       "      <td>Basal</td>\n",
       "    </tr>\n",
       "    <tr>\n",
       "      <th>2</th>\n",
       "      <td>3.246316</td>\n",
       "      <td>4.423018</td>\n",
       "      <td>3.700385</td>\n",
       "      <td>4.369893</td>\n",
       "      <td>0.155187</td>\n",
       "      <td>3.752491</td>\n",
       "      <td>0.102125</td>\n",
       "      <td>3.779098</td>\n",
       "      <td>2.218593</td>\n",
       "      <td>1.927426</td>\n",
       "      <td>...</td>\n",
       "      <td>3.647681</td>\n",
       "      <td>1.063245</td>\n",
       "      <td>2.876544</td>\n",
       "      <td>4.498677</td>\n",
       "      <td>2.722251</td>\n",
       "      <td>3.125330</td>\n",
       "      <td>1.928449</td>\n",
       "      <td>0.374845</td>\n",
       "      <td>2.531836</td>\n",
       "      <td>Basal</td>\n",
       "    </tr>\n",
       "    <tr>\n",
       "      <th>3</th>\n",
       "      <td>2.161512</td>\n",
       "      <td>2.314358</td>\n",
       "      <td>3.562899</td>\n",
       "      <td>3.786747</td>\n",
       "      <td>0.039245</td>\n",
       "      <td>4.227823</td>\n",
       "      <td>0.493791</td>\n",
       "      <td>4.124650</td>\n",
       "      <td>2.202475</td>\n",
       "      <td>2.317170</td>\n",
       "      <td>...</td>\n",
       "      <td>3.071066</td>\n",
       "      <td>0.577870</td>\n",
       "      <td>2.554480</td>\n",
       "      <td>4.879861</td>\n",
       "      <td>3.597988</td>\n",
       "      <td>5.953152</td>\n",
       "      <td>3.761062</td>\n",
       "      <td>0.528845</td>\n",
       "      <td>1.604472</td>\n",
       "      <td>Basal</td>\n",
       "    </tr>\n",
       "    <tr>\n",
       "      <th>4</th>\n",
       "      <td>2.795468</td>\n",
       "      <td>1.876752</td>\n",
       "      <td>0.658127</td>\n",
       "      <td>2.581386</td>\n",
       "      <td>0.014486</td>\n",
       "      <td>2.688765</td>\n",
       "      <td>0.432283</td>\n",
       "      <td>2.655957</td>\n",
       "      <td>1.872897</td>\n",
       "      <td>0.924654</td>\n",
       "      <td>...</td>\n",
       "      <td>2.893713</td>\n",
       "      <td>0.272402</td>\n",
       "      <td>2.119050</td>\n",
       "      <td>3.571224</td>\n",
       "      <td>2.554718</td>\n",
       "      <td>0.189085</td>\n",
       "      <td>0.000000</td>\n",
       "      <td>0.199501</td>\n",
       "      <td>0.041927</td>\n",
       "      <td>Basal</td>\n",
       "    </tr>\n",
       "  </tbody>\n",
       "</table>\n",
       "<p>5 rows × 48 columns</p>\n",
       "</div>"
      ],
      "text/plain": [
       "0  ENSG00000011426.9  ENSG00000054598.6  ENSG00000062038.12  \\\n",
       "0           1.326515           3.475678            2.374959   \n",
       "1           1.885133           2.752910            3.770004   \n",
       "2           3.246316           4.423018            3.700385   \n",
       "3           2.161512           2.314358            3.562899   \n",
       "4           2.795468           1.876752            0.658127   \n",
       "\n",
       "0  ENSG00000077152.8  ENSG00000082175.13  ENSG00000089685.13  \\\n",
       "0           3.409941            0.014148            3.235387   \n",
       "1           3.822052            0.051402            3.001023   \n",
       "2           4.369893            0.155187            3.752491   \n",
       "3           3.786747            0.039245            4.227823   \n",
       "4           2.581386            0.014486            2.688765   \n",
       "\n",
       "0  ENSG00000091831.20  ENSG00000092621.10  ENSG00000094804.8  \\\n",
       "0            0.094595            4.488874           2.023978   \n",
       "1            0.241303            3.680198           1.820556   \n",
       "2            0.102125            3.779098           2.218593   \n",
       "3            0.493791            4.124650           2.202475   \n",
       "4            0.432283            2.655957           1.872897   \n",
       "\n",
       "0  ENSG00000099953.8  ...  ENSG00000171848.12  ENSG00000173890.15  \\\n",
       "0           3.996567  ...            3.163366            1.751804   \n",
       "1           1.344271  ...            2.339897            0.949565   \n",
       "2           1.927426  ...            3.647681            1.063245   \n",
       "3           2.317170  ...            3.071066            0.577870   \n",
       "4           0.924654  ...            2.893713            0.272402   \n",
       "\n",
       "0  ENSG00000174371.15  ENSG00000175063.15  ENSG00000176890.14  \\\n",
       "0            1.727270            4.541346            3.437507   \n",
       "1            1.967062            4.167635            3.288760   \n",
       "2            2.876544            4.498677            2.722251   \n",
       "3            2.554480            4.879861            3.597988   \n",
       "4            2.119050            3.571224            2.554718   \n",
       "\n",
       "0  ENSG00000186081.10  ENSG00000186847.5  ENSG00000186868.14  \\\n",
       "0            5.678637           7.451924            0.598057   \n",
       "1            5.370061           2.870596            0.102755   \n",
       "2            3.125330           1.928449            0.374845   \n",
       "3            5.953152           3.761062            0.528845   \n",
       "4            0.189085           0.000000            0.199501   \n",
       "\n",
       "0  ENSG00000261857.5  Clinical_subtypes  \n",
       "0           2.860720              Basal  \n",
       "1           3.075090              Basal  \n",
       "2           2.531836              Basal  \n",
       "3           1.604472              Basal  \n",
       "4           0.041927              Basal  \n",
       "\n",
       "[5 rows x 48 columns]"
      ]
     },
     "execution_count": 110,
     "metadata": {},
     "output_type": "execute_result"
    }
   ],
   "source": [
    "data = gene_expression\n",
    "data.columns = genes_id[0]\n",
    "data.loc[:, \"Clinical_subtypes\"] = patient_subtypes.iloc[:, 0]\n",
    "\n",
    "data.head()\n"
   ]
  },
  {
   "cell_type": "markdown",
   "id": "c92b891a-0b97-4192-b953-0443c80765fc",
   "metadata": {},
   "source": [
    "## Explore the dataset [15 pts]"
   ]
  },
  {
   "cell_type": "markdown",
   "id": "df05aaa2-ca54-466c-adce-a9971d31c717",
   "metadata": {
    "tags": []
   },
   "source": [
    "### How many subtypes are you considering? [1 pts]"
   ]
  },
  {
   "cell_type": "code",
   "execution_count": 111,
   "id": "91361b10-1623-420d-8c45-fda2c6f40690",
   "metadata": {},
   "outputs": [
    {
     "data": {
      "text/plain": [
       "5"
      ]
     },
     "execution_count": 111,
     "metadata": {},
     "output_type": "execute_result"
    }
   ],
   "source": [
    "data.Clinical_subtypes.nunique()"
   ]
  },
  {
   "cell_type": "markdown",
   "id": "248a978c-1b9a-4e72-b4af-066f552efbe4",
   "metadata": {
    "tags": []
   },
   "source": [
    "### How many patients are associtated to each subtype? [2 pts]"
   ]
  },
  {
   "cell_type": "code",
   "execution_count": null,
   "id": "a20e5d99-76eb-4ec7-9800-d06d41887ea7",
   "metadata": {},
   "outputs": [],
   "source": []
  },
  {
   "cell_type": "markdown",
   "id": "41a42ab6-b474-40bb-aa29-8341fcb7b86f",
   "metadata": {},
   "source": [
    "### Generate a graph showing the distribution of the average expression of each gene [5 pts]"
   ]
  },
  {
   "cell_type": "code",
   "execution_count": null,
   "id": "69c59a4c-afff-4f1f-bf42-2ef0e2703cd9",
   "metadata": {},
   "outputs": [],
   "source": []
  },
  {
   "cell_type": "markdown",
   "id": "3fcb94e7-c64d-46ad-8f70-9dc7250cae82",
   "metadata": {},
   "source": [
    "### What are the two genes with the largest standard deviation for all patient? [2 pts]\n",
    "To answer this question, you can use the `df.std()` and `df.sort_values()`. You can look into the doc for more informations on these two functions.\n",
    "1. https://pandas.pydata.org/docs/reference/api/pandas.DataFrame.std.html\n",
    "2. https://pandas.pydata.org/docs/reference/api/pandas.DataFrame.sort_values.html#pandas.DataFrame.sort_values"
   ]
  },
  {
   "cell_type": "code",
   "execution_count": null,
   "id": "0e860772-bc93-46ab-983e-b0ee3c411410",
   "metadata": {},
   "outputs": [],
   "source": []
  },
  {
   "cell_type": "markdown",
   "id": "def5750e-318e-4c4f-b77d-1cc724f56c28",
   "metadata": {},
   "source": [
    "### Compare the expression of these two genes: are they corrolated based on tumor subtypes? [5 pts]\n",
    "The two genes to consider are **ENSG00000186081.10** and **ENSG00000128422.14**.\n",
    "\n",
    "To answer this question: \n",
    "1. Make a figure showing the correlation between the two genes by clinical subtypes,\n",
    "2. Calculate a correlation coefficient for each comparison and,\n",
    "3. Briefly interpret your results (make sure your interpretation is consistent with the correlation coefficient used)."
   ]
  },
  {
   "cell_type": "code",
   "execution_count": null,
   "id": "b81be662-bcea-422a-8975-f8abe60d7132",
   "metadata": {},
   "outputs": [],
   "source": []
  },
  {
   "cell_type": "markdown",
   "id": "9bdc21d7-80a9-49e2-b9b4-41de2b4cc61a",
   "metadata": {},
   "source": [
    "## Clustering [25 pts]\n",
    "You are wondering if the M genes considered by your dataset are enough to cluster the N patients by their cancer subtype. To answer this question, you first want to apply a dimensionality reduction algorithm to your dataset. You then want to apply a clustering alogirthme to the reduced components, and compare the clustering labels to the clinical subtype of each patient."
   ]
  },
  {
   "cell_type": "markdown",
   "id": "67b40a50-5d06-4486-92dc-3824885c44ef",
   "metadata": {},
   "source": [
    "### Apply a PCA Dimensionality reduction to your gene expression dataset [4 pts]\n",
    "\n",
    "Once you selected the numerical gene expression, scale the value and initiate a PCA object. You want to reduce your set of features to **25 components**."
   ]
  },
  {
   "cell_type": "code",
   "execution_count": null,
   "id": "c1b3b2b4-7584-4946-94cc-ce88b26aa12b",
   "metadata": {},
   "outputs": [],
   "source": []
  },
  {
   "cell_type": "markdown",
   "id": "ed2a0f5e-2238-47e4-b5a0-df41b402aa1f",
   "metadata": {},
   "source": [
    "### What percentage of the variance of the dataset is explained by the two first component? [2 pt]"
   ]
  },
  {
   "cell_type": "code",
   "execution_count": null,
   "id": "82dfede7-86c5-40f9-b7da-6ab664c8a280",
   "metadata": {},
   "outputs": [],
   "source": []
  },
  {
   "cell_type": "markdown",
   "id": "e0c6b757-c3b2-4bd6-943a-dc75823c8538",
   "metadata": {},
   "source": [
    "### Apply the PCA onto your gene expression data and create a DataFrame with the PCs and the clinical patient subtypes [4 pts]\n",
    "**Show a preview/overview of your dataframe**"
   ]
  },
  {
   "cell_type": "code",
   "execution_count": null,
   "id": "322249e8-f091-4e87-ac47-16272651c7db",
   "metadata": {},
   "outputs": [],
   "source": []
  },
  {
   "cell_type": "markdown",
   "id": "056e501b-85d0-407b-909b-dc81bbe7acf2",
   "metadata": {},
   "source": [
    "### Plot a figure showing the two first PCs and color the samples by their clinical subtype [3 pts]\n",
    "Do you think the k-means algorithm will be able to accurately cluster patients based on their clinical subtype? Why?"
   ]
  },
  {
   "cell_type": "code",
   "execution_count": null,
   "id": "6f81b389-ccc7-4daf-b7a4-f69d430efb88",
   "metadata": {},
   "outputs": [],
   "source": []
  },
  {
   "cell_type": "markdown",
   "id": "55c4003c-9a80-4b9f-9d8a-b7ddf54b32ae",
   "metadata": {},
   "source": [
    "### Apply the K-means algorithme to your reduced dataset [5 pts]\n",
    "When applying the K-means, you should use all 25 PCs, generated by your PCA. Add the k-means labels to your reduced dataset."
   ]
  },
  {
   "cell_type": "code",
   "execution_count": null,
   "id": "7074c0f5-c49a-4785-b0d0-6bfe6709405a",
   "metadata": {},
   "outputs": [],
   "source": []
  },
  {
   "cell_type": "markdown",
   "id": "dcfb6acb-f570-427f-aba5-28ba41afcd53",
   "metadata": {},
   "source": [
    "### What value of k did you use and why? [2 pt]"
   ]
  },
  {
   "cell_type": "code",
   "execution_count": null,
   "id": "99fca5af-162c-4632-9a66-d003a00b040a",
   "metadata": {},
   "outputs": [],
   "source": []
  },
  {
   "cell_type": "markdown",
   "id": "8c917417-d032-45a2-bcb7-af69867bf26c",
   "metadata": {},
   "source": [
    "### Compare your k-means labels to the clinical substypes [5 pts]\n",
    "You comparison can by qualitative and/or quantitative.\n",
    "\n",
    "**Are you able to cluster patient by clinical substypes from your subset of gene expressions? Briefly describe and interpret your results.**"
   ]
  },
  {
   "cell_type": "code",
   "execution_count": null,
   "id": "ed6bb17b-b23b-471d-aba5-6b3d637dd805",
   "metadata": {},
   "outputs": [],
   "source": []
  },
  {
   "cell_type": "code",
   "execution_count": null,
   "id": "99962d85-c9cf-4679-9d53-2176ab2735f0",
   "metadata": {},
   "outputs": [],
   "source": []
  }
 ],
 "metadata": {
  "kernelspec": {
   "display_name": "Python (bioinfo)",
   "language": "python",
   "name": "bioinfo"
  },
  "language_info": {
   "codemirror_mode": {
    "name": "ipython",
    "version": 3
   },
   "file_extension": ".py",
   "mimetype": "text/x-python",
   "name": "python",
   "nbconvert_exporter": "python",
   "pygments_lexer": "ipython3",
   "version": "3.10.4"
  }
 },
 "nbformat": 4,
 "nbformat_minor": 5
}
